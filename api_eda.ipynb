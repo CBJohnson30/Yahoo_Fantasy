{
 "cells": [
  {
   "cell_type": "code",
   "execution_count": 3,
   "metadata": {},
   "outputs": [],
   "source": [
    "import pandas as pd\n",
    "from yahoo_oauth import OAuth2\n",
    "import yahoo_fantasy_api as yfa"
   ]
  },
  {
   "cell_type": "code",
   "execution_count": 2,
   "metadata": {},
   "outputs": [
    {
     "name": "stderr",
     "output_type": "stream",
     "text": [
      "[2025-04-02 21:37:21,780 DEBUG] [yahoo_oauth.oauth.__init__] Checking \n",
      "[2025-04-02 21:37:21,782 DEBUG] [yahoo_oauth.oauth.handler] AUTHORIZATION URL : https://api.login.yahoo.com/oauth2/request_auth?redirect_uri=oob&response_type=code&client_id=dj0yJmk9SVFRdW52azlaM0duJmQ9WVdrOWNHeG5lbXh1WVZnbWNHbzlNQT09JnM9Y29uc3VtZXJzZWNyZXQmc3Y9MCZ4PTg3\n",
      "[2025-04-02 21:37:51,550 DEBUG] [yahoo_oauth.oauth.token_is_valid] ELAPSED TIME : 0.45909976959228516\n",
      "[2025-04-02 21:37:51,550 DEBUG] [yahoo_oauth.oauth.token_is_valid] TOKEN IS STILL VALID\n"
     ]
    },
    {
     "data": {
      "text/plain": [
       "True"
      ]
     },
     "execution_count": 2,
     "metadata": {},
     "output_type": "execute_result"
    }
   ],
   "source": [
    "sc = OAuth2(None, None, from_file='oauth2.json')#C:\\Users\\chris\\Documents\\Code\\Yahoo_Fantasy\\oauth2.json\n",
    "#if not sc.token_is_valid():\n",
    "#    sc.refresh_access_token()\n",
    "sc.token_is_valid()"
   ]
  },
  {
   "cell_type": "code",
   "execution_count": null,
   "metadata": {},
   "outputs": [
    {
     "name": "stdout",
     "output_type": "stream",
     "text": [
      "458.l.39956\n",
      "458.l.74893\n"
     ]
    }
   ],
   "source": [
    "gm = yfa.Game(sc, 'mlb')\n",
    "leagues = gm.league_ids(year=2025)\n",
    "for lg in leagues:\n",
    "    print(lg)"
   ]
  },
  {
   "cell_type": "code",
   "execution_count": 10,
   "metadata": {},
   "outputs": [
    {
     "data": {
      "text/plain": [
       "['458.l.39956', '458.l.74893']"
      ]
     },
     "execution_count": 10,
     "metadata": {},
     "output_type": "execute_result"
    }
   ],
   "source": [
    "leagues"
   ]
  },
  {
   "cell_type": "code",
   "execution_count": null,
   "metadata": {},
   "outputs": [],
   "source": []
  }
 ],
 "metadata": {
  "kernelspec": {
   "display_name": "Python 3",
   "language": "python",
   "name": "python3"
  },
  "language_info": {
   "codemirror_mode": {
    "name": "ipython",
    "version": 3
   },
   "file_extension": ".py",
   "mimetype": "text/x-python",
   "name": "python",
   "nbconvert_exporter": "python",
   "pygments_lexer": "ipython3",
   "version": "3.13.0"
  }
 },
 "nbformat": 4,
 "nbformat_minor": 2
}
